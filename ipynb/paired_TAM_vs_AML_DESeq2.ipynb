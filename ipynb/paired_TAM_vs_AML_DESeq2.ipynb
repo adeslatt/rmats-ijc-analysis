{
 "cells": [
  {
   "cell_type": "markdown",
   "id": "17cdd25f-23a9-4971-92c3-08278aee5375",
   "metadata": {},
   "source": [
    "Paired TAM (transcient abnormal myleoproliferation) vs AML (acute myeloid leukemia) analysis of patients with the co-occuring condition of Down Syndrome using DESeq2 on IJC counts obtained from rMATS analysis.\n",
    "\n",
    "Using a matrix constructed from Kids First Workflow V4 done on single runs, a post-rMATS-single-run prepareSEfiles.sh was run that created a bed file for visualizaiton in UCSC Genome browser of all the events, as well as created a matrix of the single runs normalized to the non-redundant union of files.  Using associative arrays in an awk script, it was a rapid way to transform the individual counts from each of the individual runs into a matrix that facilitated analysis.\n",
    "\n",
    "Using annotations obtained from the rMATS run that provided the coordinates of each of the splicing events as well as the gene that the junctions came from and the count of the reads that overlapped the junctions.   \n",
    " \n",
    "We will use DESeq2 to perform analysis of these junction counts in the identical way that a gene analysis would be completed.\n",
    "\n",
    "This allows us to take advantage of the gene-specific shrinkage approach employed by DESeq2 for these junctions.\n",
    "\n",
    "We will use BiocManager to manage the installation of the Bioconductor package, DeSeq2"
   ]
  },
  {
   "cell_type": "code",
   "execution_count": 1,
   "id": "7a0a13bb-f7d2-48b3-8308-fef6b197843b",
   "metadata": {},
   "outputs": [
    {
     "name": "stderr",
     "output_type": "stream",
     "text": [
      "'getOption(\"repos\")' replaces Bioconductor standard repositories, see\n",
      "'help(\"repositories\", package = \"BiocManager\")' for details.\n",
      "Replacement repositories:\n",
      "    CRAN: https://cran.r-project.org\n",
      "\n",
      "Bioconductor version 3.17 (BiocManager 1.30.21.1), R 4.3.1 (2023-06-16)\n",
      "\n",
      "Warning message:\n",
      "“package(s) not installed when version(s) same as or greater than current; use\n",
      "  `force = TRUE` to re-install: 'DESeq2'”\n"
     ]
    }
   ],
   "source": [
    "if (!require(\"BiocManager\", quietly = TRUE))\n",
    "    install.packages(\"BiocManager\", repos = \"https://cloud.r-project.org\")\n",
    "\n",
    "BiocManager::install(\"DESeq2\")\n"
   ]
  },
  {
   "cell_type": "code",
   "execution_count": 2,
   "id": "9efb6cf3-4204-44df-906a-aa961bdcb948",
   "metadata": {},
   "outputs": [],
   "source": [
    "setwd(\"../data/\")\n"
   ]
  },
  {
   "cell_type": "code",
   "execution_count": 3,
   "id": "ebbacdca-4a2c-49fb-bddd-d8f8ae75c06c",
   "metadata": {},
   "outputs": [
    {
     "data": {
      "text/html": [
       "'/Users/annedeslattesmays/Desktop/projects/rmats-ijc-analysis/data'"
      ],
      "text/latex": [
       "'/Users/annedeslattesmays/Desktop/projects/rmats-ijc-analysis/data'"
      ],
      "text/markdown": [
       "'/Users/annedeslattesmays/Desktop/projects/rmats-ijc-analysis/data'"
      ],
      "text/plain": [
       "[1] \"/Users/annedeslattesmays/Desktop/projects/rmats-ijc-analysis/data\""
      ]
     },
     "metadata": {},
     "output_type": "display_data"
    }
   ],
   "source": [
    "getwd()\n"
   ]
  },
  {
   "cell_type": "code",
   "execution_count": 4,
   "id": "cb5ceb6a-a996-43ea-a5aa-e4319f50edfc",
   "metadata": {},
   "outputs": [],
   "source": [
    "cts <- system.file(\"SE.IJC.paired.TAM.AML.csv\")\n"
   ]
  },
  {
   "cell_type": "code",
   "execution_count": 5,
   "id": "ff4c5b4b-d0ec-4fdc-a28f-8577b8537ed9",
   "metadata": {},
   "outputs": [],
   "source": [
    "anno <- system.file(\"SE.coordinates.matrix.csv\")"
   ]
  },
  {
   "cell_type": "code",
   "execution_count": 6,
   "id": "48a148e7-6e39-4f98-a6e8-064ba01cec41",
   "metadata": {},
   "outputs": [],
   "source": [
    "cts <- as.matrix(read.csv(\"SE.IJC.paired.TAM.AML.csv\",sep=\",\",row.names=\"ID\"))"
   ]
  },
  {
   "cell_type": "code",
   "execution_count": 7,
   "id": "287a913a-35c3-44d1-b3e0-dce02fd2aca1",
   "metadata": {},
   "outputs": [
    {
     "data": {
      "text/html": [
       "<table class=\"dataframe\">\n",
       "<caption>A matrix: 2 × 8 of type int</caption>\n",
       "<thead>\n",
       "\t<tr><th></th><th scope=col>PAUVKY.03A</th><th scope=col>PAUVKY.40A</th><th scope=col>PAWSNZ.03A</th><th scope=col>PAWSNZ.40A</th><th scope=col>PAUTLA.03A</th><th scope=col>PAUTLA.40A</th><th scope=col>PAVUDU.03A</th><th scope=col>PAVUDU.40A</th></tr>\n",
       "</thead>\n",
       "<tbody>\n",
       "\t<tr><th scope=row>1</th><td> 9</td><td>15</td><td>17</td><td> 0</td><td>44</td><td>17</td><td>33</td><td>19</td></tr>\n",
       "\t<tr><th scope=row>2</th><td>22</td><td>19</td><td> 9</td><td>16</td><td>26</td><td>11</td><td>26</td><td>17</td></tr>\n",
       "</tbody>\n",
       "</table>\n"
      ],
      "text/latex": [
       "A matrix: 2 × 8 of type int\n",
       "\\begin{tabular}{r|llllllll}\n",
       "  & PAUVKY.03A & PAUVKY.40A & PAWSNZ.03A & PAWSNZ.40A & PAUTLA.03A & PAUTLA.40A & PAVUDU.03A & PAVUDU.40A\\\\\n",
       "\\hline\n",
       "\t1 &  9 & 15 & 17 &  0 & 44 & 17 & 33 & 19\\\\\n",
       "\t2 & 22 & 19 &  9 & 16 & 26 & 11 & 26 & 17\\\\\n",
       "\\end{tabular}\n"
      ],
      "text/markdown": [
       "\n",
       "A matrix: 2 × 8 of type int\n",
       "\n",
       "| <!--/--> | PAUVKY.03A | PAUVKY.40A | PAWSNZ.03A | PAWSNZ.40A | PAUTLA.03A | PAUTLA.40A | PAVUDU.03A | PAVUDU.40A |\n",
       "|---|---|---|---|---|---|---|---|---|\n",
       "| 1 |  9 | 15 | 17 |  0 | 44 | 17 | 33 | 19 |\n",
       "| 2 | 22 | 19 |  9 | 16 | 26 | 11 | 26 | 17 |\n",
       "\n"
      ],
      "text/plain": [
       "  PAUVKY.03A PAUVKY.40A PAWSNZ.03A PAWSNZ.40A PAUTLA.03A PAUTLA.40A PAVUDU.03A\n",
       "1  9         15         17          0         44         17         33        \n",
       "2 22         19          9         16         26         11         26        \n",
       "  PAVUDU.40A\n",
       "1 19        \n",
       "2 17        "
      ]
     },
     "metadata": {},
     "output_type": "display_data"
    }
   ],
   "source": [
    "head(cts,2)"
   ]
  },
  {
   "cell_type": "code",
   "execution_count": 12,
   "id": "b605430d-3da6-443e-8800-7f3ba7315ddc",
   "metadata": {},
   "outputs": [],
   "source": [
    "annot <- read.csv(\"SE.coordinates.matrix.csv\",sep=\",\",row.names=1)"
   ]
  },
  {
   "cell_type": "code",
   "execution_count": 9,
   "id": "4e49ccd3-ad70-464f-b2fa-a3c1f71c0b4b",
   "metadata": {},
   "outputs": [
    {
     "data": {
      "text/html": [
       "<table class=\"dataframe\">\n",
       "<caption>A data.frame: 2 × 10</caption>\n",
       "<thead>\n",
       "\t<tr><th></th><th scope=col>GeneID</th><th scope=col>geneSymbol</th><th scope=col>chr</th><th scope=col>strand</th><th scope=col>exonStart_0base</th><th scope=col>exonEnd</th><th scope=col>upstreamES</th><th scope=col>upstreamEE</th><th scope=col>downstreamES</th><th scope=col>downstreamEE</th></tr>\n",
       "\t<tr><th></th><th scope=col>&lt;chr&gt;</th><th scope=col>&lt;chr&gt;</th><th scope=col>&lt;chr&gt;</th><th scope=col>&lt;chr&gt;</th><th scope=col>&lt;int&gt;</th><th scope=col>&lt;int&gt;</th><th scope=col>&lt;int&gt;</th><th scope=col>&lt;int&gt;</th><th scope=col>&lt;int&gt;</th><th scope=col>&lt;int&gt;</th></tr>\n",
       "</thead>\n",
       "<tbody>\n",
       "\t<tr><th scope=row>1</th><td>ENSG00000117620.15</td><td>SLC35A3</td><td>chr1</td><td>+</td><td>100007033</td><td>100007156</td><td>99993536</td><td>99993741</td><td>100009287</td><td>100009323</td></tr>\n",
       "\t<tr><th scope=row>2</th><td>ENSG00000117620.15</td><td>SLC35A3</td><td>chr1</td><td>+</td><td>100007033</td><td>100007156</td><td>99993536</td><td>99993741</td><td>100011364</td><td>100011533</td></tr>\n",
       "</tbody>\n",
       "</table>\n"
      ],
      "text/latex": [
       "A data.frame: 2 × 10\n",
       "\\begin{tabular}{r|llllllllll}\n",
       "  & GeneID & geneSymbol & chr & strand & exonStart\\_0base & exonEnd & upstreamES & upstreamEE & downstreamES & downstreamEE\\\\\n",
       "  & <chr> & <chr> & <chr> & <chr> & <int> & <int> & <int> & <int> & <int> & <int>\\\\\n",
       "\\hline\n",
       "\t1 & ENSG00000117620.15 & SLC35A3 & chr1 & + & 100007033 & 100007156 & 99993536 & 99993741 & 100009287 & 100009323\\\\\n",
       "\t2 & ENSG00000117620.15 & SLC35A3 & chr1 & + & 100007033 & 100007156 & 99993536 & 99993741 & 100011364 & 100011533\\\\\n",
       "\\end{tabular}\n"
      ],
      "text/markdown": [
       "\n",
       "A data.frame: 2 × 10\n",
       "\n",
       "| <!--/--> | GeneID &lt;chr&gt; | geneSymbol &lt;chr&gt; | chr &lt;chr&gt; | strand &lt;chr&gt; | exonStart_0base &lt;int&gt; | exonEnd &lt;int&gt; | upstreamES &lt;int&gt; | upstreamEE &lt;int&gt; | downstreamES &lt;int&gt; | downstreamEE &lt;int&gt; |\n",
       "|---|---|---|---|---|---|---|---|---|---|---|\n",
       "| 1 | ENSG00000117620.15 | SLC35A3 | chr1 | + | 100007033 | 100007156 | 99993536 | 99993741 | 100009287 | 100009323 |\n",
       "| 2 | ENSG00000117620.15 | SLC35A3 | chr1 | + | 100007033 | 100007156 | 99993536 | 99993741 | 100011364 | 100011533 |\n",
       "\n"
      ],
      "text/plain": [
       "  GeneID             geneSymbol chr  strand exonStart_0base exonEnd  \n",
       "1 ENSG00000117620.15 SLC35A3    chr1 +      100007033       100007156\n",
       "2 ENSG00000117620.15 SLC35A3    chr1 +      100007033       100007156\n",
       "  upstreamES upstreamEE downstreamES downstreamEE\n",
       "1 99993536   99993741   100009287    100009323   \n",
       "2 99993536   99993741   100011364    100011533   "
      ]
     },
     "metadata": {},
     "output_type": "display_data"
    }
   ],
   "source": [
    "head (annot,2)\n"
   ]
  },
  {
   "cell_type": "code",
   "execution_count": 10,
   "id": "b06a2c1c-53d5-47b9-b6e9-2bb035424d71",
   "metadata": {},
   "outputs": [],
   "source": [
    "coldata <- read.csv(\"design_matrix.csv\",row.names=1)"
   ]
  },
  {
   "cell_type": "code",
   "execution_count": 11,
   "id": "8bb5bc20-4c04-4770-b70c-79a73f51acfd",
   "metadata": {},
   "outputs": [
    {
     "data": {
      "text/html": [
       "<table class=\"dataframe\">\n",
       "<caption>A data.frame: 8 × 1</caption>\n",
       "<thead>\n",
       "\t<tr><th></th><th scope=col>condition</th></tr>\n",
       "\t<tr><th></th><th scope=col>&lt;chr&gt;</th></tr>\n",
       "</thead>\n",
       "<tbody>\n",
       "\t<tr><th scope=row>PAUVKY-03A</th><td>TAM</td></tr>\n",
       "\t<tr><th scope=row>PAUVKY-40A</th><td>AML</td></tr>\n",
       "\t<tr><th scope=row>PAWSNZ-03A</th><td>TAM</td></tr>\n",
       "\t<tr><th scope=row>PAWSNZ-40A</th><td>AML</td></tr>\n",
       "\t<tr><th scope=row>PAUTLA-03A</th><td>TAM</td></tr>\n",
       "\t<tr><th scope=row>PAUTLA-40A</th><td>AML</td></tr>\n",
       "\t<tr><th scope=row>PAVUDU-03A</th><td>TAM</td></tr>\n",
       "\t<tr><th scope=row>PAVUDU-40A</th><td>AML</td></tr>\n",
       "</tbody>\n",
       "</table>\n"
      ],
      "text/latex": [
       "A data.frame: 8 × 1\n",
       "\\begin{tabular}{r|l}\n",
       "  & condition\\\\\n",
       "  & <chr>\\\\\n",
       "\\hline\n",
       "\tPAUVKY-03A & TAM\\\\\n",
       "\tPAUVKY-40A & AML\\\\\n",
       "\tPAWSNZ-03A & TAM\\\\\n",
       "\tPAWSNZ-40A & AML\\\\\n",
       "\tPAUTLA-03A & TAM\\\\\n",
       "\tPAUTLA-40A & AML\\\\\n",
       "\tPAVUDU-03A & TAM\\\\\n",
       "\tPAVUDU-40A & AML\\\\\n",
       "\\end{tabular}\n"
      ],
      "text/markdown": [
       "\n",
       "A data.frame: 8 × 1\n",
       "\n",
       "| <!--/--> | condition &lt;chr&gt; |\n",
       "|---|---|\n",
       "| PAUVKY-03A | TAM |\n",
       "| PAUVKY-40A | AML |\n",
       "| PAWSNZ-03A | TAM |\n",
       "| PAWSNZ-40A | AML |\n",
       "| PAUTLA-03A | TAM |\n",
       "| PAUTLA-40A | AML |\n",
       "| PAVUDU-03A | TAM |\n",
       "| PAVUDU-40A | AML |\n",
       "\n"
      ],
      "text/plain": [
       "           condition\n",
       "PAUVKY-03A TAM      \n",
       "PAUVKY-40A AML      \n",
       "PAWSNZ-03A TAM      \n",
       "PAWSNZ-40A AML      \n",
       "PAUTLA-03A TAM      \n",
       "PAUTLA-40A AML      \n",
       "PAVUDU-03A TAM      \n",
       "PAVUDU-40A AML      "
      ]
     },
     "metadata": {},
     "output_type": "display_data"
    }
   ],
   "source": [
    "coldata\n"
   ]
  },
  {
   "cell_type": "code",
   "execution_count": null,
   "id": "8af6a639-6b22-44be-998d-ff752b37dd5d",
   "metadata": {},
   "outputs": [],
   "source": [
    "rownames(coldata)"
   ]
  },
  {
   "cell_type": "code",
   "execution_count": null,
   "id": "9b1d0636-c20d-407a-861a-0420c519b2f7",
   "metadata": {},
   "outputs": [],
   "source": [
    "rownames(coldata) <-sub(\"-\",\".\",rownames(coldata))"
   ]
  },
  {
   "cell_type": "code",
   "execution_count": null,
   "id": "30feeda5-ac47-42d5-890a-0e2deb97df5d",
   "metadata": {},
   "outputs": [],
   "source": [
    "colnames(cts)"
   ]
  },
  {
   "cell_type": "code",
   "execution_count": null,
   "id": "5eb757dc-5605-4d63-bffd-caf6e4e62e9d",
   "metadata": {},
   "outputs": [],
   "source": [
    "all(rownames(coldata) %in% colnames(cts))\n",
    "\n"
   ]
  },
  {
   "cell_type": "code",
   "execution_count": null,
   "id": "01262792-6a32-4152-bfbb-5b0701a1415c",
   "metadata": {},
   "outputs": [],
   "source": [
    "library(\"DESeq2\")\n",
    "dds <- DESeqDataSetFromMatrix(countData = cts,\n",
    "                              colData = coldata,\n",
    "                              design = ~ condition)\n",
    "dds"
   ]
  },
  {
   "cell_type": "code",
   "execution_count": null,
   "id": "a84e9681-e994-4d89-a801-a44c936cc7dd",
   "metadata": {},
   "outputs": [],
   "source": [
    "featureData <- data.frame(gene=rownames(cts))"
   ]
  },
  {
   "cell_type": "code",
   "execution_count": null,
   "id": "4e025c71-0d95-415b-8a9c-bc6c70de9f80",
   "metadata": {},
   "outputs": [],
   "source": [
    "mcols(dds) <- DataFrame(mcols(dds), featureData)\n",
    "mcols(dds)\n"
   ]
  },
  {
   "cell_type": "code",
   "execution_count": null,
   "id": "b6e7fb64-3077-4f60-800a-2ee843e79998",
   "metadata": {},
   "outputs": [],
   "source": [
    "keep <- rowSums(counts(dds)) >= 10\n",
    "dds <- dds[keep,]"
   ]
  },
  {
   "cell_type": "code",
   "execution_count": null,
   "id": "28a9e31f-72fa-4ad6-9972-994125c17d35",
   "metadata": {},
   "outputs": [],
   "source": [
    "head(cts,2)"
   ]
  },
  {
   "cell_type": "code",
   "execution_count": null,
   "id": "9c5c29f3-11be-42a9-bd45-8e98f8676edf",
   "metadata": {},
   "outputs": [],
   "source": [
    "dds$condition <- factor(dds$condition, levels = c(\"TAM\",\"AML\"))"
   ]
  },
  {
   "cell_type": "code",
   "execution_count": null,
   "id": "7fd788ae-6644-4056-806d-44fea0ef2ebe",
   "metadata": {},
   "outputs": [],
   "source": [
    "dds <- DESeq(dds)\n",
    "res <- results(dds, contrast=c(\"condition\",\"TAM\",\"AML\"))\n",
    "res"
   ]
  },
  {
   "cell_type": "code",
   "execution_count": null,
   "id": "8dcd7096-6df8-4c9c-9fb3-90e2383f8e48",
   "metadata": {},
   "outputs": [],
   "source": [
    "par(mar=c(8,5,2,2))\n",
    "boxplot(log10(assays(dds)[[\"cooks\"]]), range=0, las=2)"
   ]
  },
  {
   "cell_type": "code",
   "execution_count": null,
   "id": "74399241-c71f-4793-831e-10e8f85e1dd8",
   "metadata": {},
   "outputs": [],
   "source": [
    "plotMA(res, ylim=c(-3,3))\n"
   ]
  },
  {
   "cell_type": "code",
   "execution_count": null,
   "id": "377b9ff9-49cf-455e-b9be-a90e00744318",
   "metadata": {},
   "outputs": [],
   "source": [
    "resOrdered <- res[order(res$pvalue),]\n"
   ]
  },
  {
   "cell_type": "code",
   "execution_count": null,
   "id": "507c1ff7-65c5-4be4-a612-8fb1d70fd53f",
   "metadata": {},
   "outputs": [],
   "source": [
    "summary(res)\n"
   ]
  },
  {
   "cell_type": "code",
   "execution_count": null,
   "id": "4bd49940-478f-46e9-9f64-d2d301648135",
   "metadata": {},
   "outputs": [],
   "source": [
    "sum(res$padj < 0.1, na.rm=TRUE)\n"
   ]
  },
  {
   "cell_type": "code",
   "execution_count": null,
   "id": "73918827-d15c-4aea-97ad-7d8e8174edbf",
   "metadata": {},
   "outputs": [],
   "source": [
    "write.csv(as.data.frame(resOrdered), \n",
    "          file=\"condition_AML_vs_TAM_results.csv\")"
   ]
  },
  {
   "cell_type": "code",
   "execution_count": null,
   "id": "9cde5cd9-005f-4acb-a2b6-79c18512bd59",
   "metadata": {},
   "outputs": [],
   "source": [
    "sum(res$padj < 0.05, na.rm=TRUE)"
   ]
  },
  {
   "cell_type": "code",
   "execution_count": null,
   "id": "df3d4566-9884-4599-8b43-dee1a70d301f",
   "metadata": {},
   "outputs": [],
   "source": [
    "res05 <- results(dds, alpha=0.05)"
   ]
  },
  {
   "cell_type": "code",
   "execution_count": null,
   "id": "eba17ac3-d91b-437a-a6f5-a94fc4293134",
   "metadata": {},
   "outputs": [],
   "source": [
    "summary(res05)"
   ]
  },
  {
   "cell_type": "code",
   "execution_count": null,
   "id": "8c669242-32ff-4bee-9847-f30c9c6c1f70",
   "metadata": {},
   "outputs": [],
   "source": [
    "resultsNames(dds)"
   ]
  },
  {
   "cell_type": "code",
   "execution_count": null,
   "id": "22c29279-b93f-451e-83a3-acde664023a1",
   "metadata": {},
   "outputs": [],
   "source": [
    "resLFC <- lfcShrink(dds, coef=\"condition_AML_vs_TAM\", type=\"apeglm\")\n",
    "resLFC"
   ]
  },
  {
   "cell_type": "code",
   "execution_count": null,
   "id": "1a4b002f-3037-4cbf-8b93-18aca89d4558",
   "metadata": {},
   "outputs": [],
   "source": [
    "plotMA(resLFC, ylim=c(-2,2))\n"
   ]
  },
  {
   "cell_type": "code",
   "execution_count": null,
   "id": "5aa4a04c-4ccb-49c7-8658-8bcb75a1baa5",
   "metadata": {},
   "outputs": [],
   "source": [
    "library(\"pheatmap\")\n",
    "select <- order(rowMeans(counts(dds,normalized=TRUE)),\n",
    "                decreasing=TRUE)[1:20]\n",
    "df <- as.data.frame(colData(dds)[,c(\"condition\")])\n",
    "pheatmap(assay(ntd)[select,], cluster_rows=FALSE, show_rownames=FALSE,\n",
    "         cluster_cols=FALSE, annotation_col=df)\n"
   ]
  },
  {
   "cell_type": "code",
   "execution_count": null,
   "id": "54480680-ce55-429c-ae6d-e0e784ec47f5",
   "metadata": {},
   "outputs": [],
   "source": []
  },
  {
   "cell_type": "code",
   "execution_count": null,
   "id": "e5e25f5d-ac3d-4966-a3a6-422aa129c2da",
   "metadata": {},
   "outputs": [],
   "source": []
  }
 ],
 "metadata": {
  "kernelspec": {
   "display_name": "R",
   "language": "R",
   "name": "ir"
  },
  "language_info": {
   "codemirror_mode": "r",
   "file_extension": ".r",
   "mimetype": "text/x-r-source",
   "name": "R",
   "pygments_lexer": "r",
   "version": "4.3.1"
  }
 },
 "nbformat": 4,
 "nbformat_minor": 5
}
